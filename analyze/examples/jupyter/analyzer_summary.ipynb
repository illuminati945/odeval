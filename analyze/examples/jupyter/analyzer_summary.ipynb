{
 "cells": [
  {
   "cell_type": "code",
   "execution_count": null,
   "metadata": {},
   "outputs": [],
   "source": [
    "# verify that the correct python interpreter is running\n",
    "!which python"
   ]
  },
  {
   "cell_type": "code",
   "execution_count": null,
   "metadata": {},
   "outputs": [],
   "source": [
    "import os\n",
    "import pandas as pd\n",
    "\n",
    "from analyze.analyzer import Analyzer\n",
    "from analyze.viewer import AnalyzerViewer"
   ]
  },
  {
   "cell_type": "code",
   "execution_count": null,
   "metadata": {},
   "outputs": [],
   "source": [
    "# verify that current working directory is './analyze/analyze/examples/jupyter'\n",
    "os.getcwd()"
   ]
  },
  {
   "cell_type": "code",
   "execution_count": null,
   "metadata": {},
   "outputs": [],
   "source": [
    "# set analyzer file to load\n",
    "base_dir = os.path.dirname(os.getcwd())\n",
    "relative_data_dir = '../tests/data/ILSVRC2015_00078000'\n",
    "data_dir = os.path.join(base_dir, relative_data_dir)\n",
    "analyzer_file = os.path.join(data_dir, 'analyzer.p')\n",
    "print(analyzer_file)"
   ]
  },
  {
   "cell_type": "code",
   "execution_count": null,
   "metadata": {},
   "outputs": [],
   "source": [
    "# load referece analyzer\n",
    "analyzer_ref = Analyzer.load(analyzer_file, load_images_from_dir=False)\n",
    "\n",
    "# create new analyzer: \n",
    "# since reference analyzer saved with previous code version, and does not contain all new varibales\n",
    "analyzer = Analyzer(class_names=analyzer_ref.class_names,\n",
    "                    bbox_match_method='pred_bbox_center',\n",
    "                    score_th=0.35,\n",
    "                    iou_th=0.45,\n",
    "                    )"
   ]
  },
  {
   "cell_type": "code",
   "execution_count": null,
   "metadata": {},
   "outputs": [],
   "source": [
    "# get some data from reference analyzer\n",
    "keys = list(analyzer_ref.keys())\n",
    "frame_id = keys[0]\n",
    "prediction, ground_truth, image_path, image, cm = analyzer_ref.get_item_unpacked(frame_id)\n",
    "\n",
    "# update new analyzer\n",
    "analyzer.update_analyzer(key=frame_id,\n",
    "                         prediction=prediction,\n",
    "                         ground_truth=ground_truth,\n",
    "                         image_path=image_path,\n",
    "                         analyze_performance=True)\n",
    "\n",
    "# get updated data from new analyzer\n",
    "prediction, ground_truth, image_path, image, cm = analyzer.get_item_unpacked(frame_id)"
   ]
  },
  {
   "cell_type": "code",
   "execution_count": null,
   "metadata": {},
   "outputs": [],
   "source": [
    "# work on confusion matrix summary\n",
    "\n",
    "metrics = cm.metrics\n",
    "df_global = pd.DataFrame.from_dict(metrics['global'])\n",
    "df_class = pd.DataFrame.from_dict(metrics['class'])"
   ]
  },
  {
   "cell_type": "code",
   "execution_count": null,
   "metadata": {},
   "outputs": [],
   "source": [
    "df_global"
   ]
  },
  {
   "cell_type": "code",
   "execution_count": null,
   "metadata": {},
   "outputs": [],
   "source": [
    "df_global.index"
   ]
  },
  {
   "cell_type": "code",
   "execution_count": null,
   "metadata": {},
   "outputs": [],
   "source": [
    "# rearrange data frame for display: change names, delete unwanted data \n",
    "\n",
    "# rename columns\n",
    "# df_global.rename(columns={'macro': 'macro (average over classes)'}, inplace=True)\n",
    "# rename rows\n",
    "df_global.rename({'N_GT_nonzero_classes': '# classes with nonzero GT', \n",
    "                  'N_P_nonzero_classes': '# classes with nonzero predictions', \n",
    "                  'N_P': '# total predictions', \n",
    "                  'N_GT': '# total GT'}, \n",
    "                 inplace=True)\n",
    "\n",
    "df_global.drop(index=['TP', 'FP', 'FN', 'miss_detection', 'false_detection'], inplace=True)\n",
    "\n",
    "df_global"
   ]
  },
  {
   "cell_type": "code",
   "execution_count": null,
   "metadata": {},
   "outputs": [],
   "source": [
    "df_class"
   ]
  },
  {
   "cell_type": "code",
   "execution_count": null,
   "metadata": {},
   "outputs": [],
   "source": [
    "# insert class names as first column\n",
    "CLASS_NAMES = ['__background__',  # always index 0\n",
    "                'airplane', 'antelope', 'bear', 'bicycle',\n",
    "                'bird', 'bus', 'car', 'cattle',\n",
    "                'dog', 'domestic_cat', 'elephant', 'fox',\n",
    "                'giant_panda', 'hamster', 'horse', 'lion',\n",
    "                'lizard', 'monkey', 'motorcycle', 'rabbit',\n",
    "                'red_panda', 'sheep', 'snake', 'squirrel',\n",
    "                'tiger', 'train', 'turtle', 'watercraft',\n",
    "                'whale', 'zebra']\n",
    "df_class.insert(loc=0, column='class', value=CLASS_NAMES)\n",
    "df_class"
   ]
  },
  {
   "cell_type": "code",
   "execution_count": null,
   "metadata": {},
   "outputs": [],
   "source": [
    "# rearrange data frame for display: change names, delete unwanted data \n",
    "\n",
    "# rename columns\n",
    "df_class.rename(columns={'N_P': '# predictions', \n",
    "                         'N_GT': '# GT'}, \n",
    "                inplace=True)\n",
    "\n",
    "\n",
    "df_class.drop(columns=['TP', 'FP', 'FN', 'miss_detection', 'false_detection', \n",
    "                       'N_P_total', 'N_GT_total', 'support'], inplace=True)\n",
    "\n",
    "df_class"
   ]
  },
  {
   "cell_type": "code",
   "execution_count": null,
   "metadata": {},
   "outputs": [],
   "source": []
  }
 ],
 "metadata": {
  "kernelspec": {
   "display_name": "Python 3",
   "language": "python",
   "name": "python3"
  },
  "language_info": {
   "codemirror_mode": {
    "name": "ipython",
    "version": 3
   },
   "file_extension": ".py",
   "mimetype": "text/x-python",
   "name": "python",
   "nbconvert_exporter": "python",
   "pygments_lexer": "ipython3",
   "version": "3.6.8"
  },
  "pycharm": {
   "stem_cell": {
    "cell_type": "raw",
    "metadata": {
     "collapsed": false
    },
    "source": []
   }
  }
 },
 "nbformat": 4,
 "nbformat_minor": 1
}
